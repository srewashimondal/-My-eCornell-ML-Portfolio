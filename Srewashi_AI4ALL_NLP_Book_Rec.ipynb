{
  "nbformat": 4,
  "nbformat_minor": 0,
  "metadata": {
    "colab": {
      "provenance": [],
      "authorship_tag": "ABX9TyOi6kz9R5hVAMfq1oqiKYqP",
      "include_colab_link": true
    },
    "kernelspec": {
      "name": "python3",
      "display_name": "Python 3"
    },
    "language_info": {
      "name": "python"
    }
  },
  "cells": [
    {
      "cell_type": "markdown",
      "metadata": {
        "id": "view-in-github",
        "colab_type": "text"
      },
      "source": [
        "<a href=\"https://colab.research.google.com/github/srewashimondal/-My-eCornell-ML-Portfolio/blob/main/Srewashi_AI4ALL_NLP_Book_Rec.ipynb\" target=\"_parent\"><img src=\"https://colab.research.google.com/assets/colab-badge.svg\" alt=\"Open In Colab\"/></a>"
      ]
    },
    {
      "cell_type": "code",
      "execution_count": null,
      "metadata": {
        "id": "VuWvvUsR_Ole"
      },
      "outputs": [],
      "source": [
        "from google.colab import files\n",
        "files.upload()"
      ]
    },
    {
      "cell_type": "code",
      "source": [
        "!mkdir -p ~/.kaggle\n",
        "!cp kaggle.json ~/.kaggle/\n",
        "!chmod 600 ~/.kaggle/kaggle.json"
      ],
      "metadata": {
        "id": "iAN0KeV_BOTZ"
      },
      "execution_count": null,
      "outputs": []
    },
    {
      "cell_type": "code",
      "source": [
        "!kaggle datasets download -d dk123891/books-dataset-goodreadsmay-2024"
      ],
      "metadata": {
        "id": "rb-4Qx0sBU8w"
      },
      "execution_count": null,
      "outputs": []
    },
    {
      "cell_type": "code",
      "source": [
        "#Unzip the dataset\n",
        "!unzip books-dataset-goodreadsmay-2024.zip"
      ],
      "metadata": {
        "id": "xaia8aO5BbGw"
      },
      "execution_count": null,
      "outputs": []
    },
    {
      "cell_type": "code",
      "source": [
        "import pandas as pd\n",
        "\n",
        "# Load the CSV file\n",
        "df = pd.read_csv(\"Book_Details.csv\")\n",
        "\n",
        "# Preview the data\n",
        "df.head()"
      ],
      "metadata": {
        "id": "59jqXOrdBg8k"
      },
      "execution_count": null,
      "outputs": []
    },
    {
      "cell_type": "code",
      "source": [
        "#Data Cleaning and Preparation"
      ],
      "metadata": {
        "id": "fXUMQORWCI8L"
      },
      "execution_count": null,
      "outputs": []
    },
    {
      "cell_type": "code",
      "source": [
        "#Columns we need right now\n",
        "df = df[['book_title', 'book_details','publication_info', 'author', 'num_pages', 'genres', 'num_ratings','num_reviews','average_rating']]"
      ],
      "metadata": {
        "id": "t6LZ9ocWCL6K"
      },
      "execution_count": null,
      "outputs": []
    },
    {
      "cell_type": "code",
      "source": [
        "#Drop missing values\n",
        "df.dropna(inplace=True)\n",
        "df.reset_index(drop=True, inplace=True)"
      ],
      "metadata": {
        "id": "QxTT5tF-CTNM"
      },
      "execution_count": null,
      "outputs": []
    },
    {
      "cell_type": "code",
      "source": [
        "#See cleaned dataset\n",
        "df.info()\n",
        "df.head(3)"
      ],
      "metadata": {
        "id": "3AjD1gvjCXiJ"
      },
      "execution_count": null,
      "outputs": []
    },
    {
      "cell_type": "code",
      "source": [
        "#Check for duplicates\n",
        "df['book_title'].duplicated().sum()\n",
        "\n",
        "#If we find duplicated, keep only first entry\n",
        "df.drop_duplicates(subset='book_title', keep='first', inplace=True)\n",
        "df.reset_index(drop=True, inplace=True)"
      ],
      "metadata": {
        "id": "VANQuBdQC0eh"
      },
      "execution_count": null,
      "outputs": []
    },
    {
      "cell_type": "code",
      "source": [
        "#Count for each column\n",
        "df.info()"
      ],
      "metadata": {
        "id": "PgbzVu7CDRCA"
      },
      "execution_count": null,
      "outputs": []
    },
    {
      "cell_type": "code",
      "source": [
        "#Lowercase and strip spaces in text fields like book_title, book_details, genres, and author\n",
        "text_cols = ['book_title', 'book_details', 'genres', 'author']\n",
        "\n",
        "for col in text_cols:\n",
        "    df[col] = df[col].str.lower().str.strip()"
      ],
      "metadata": {
        "id": "nQMNjXAzIJ8c"
      },
      "execution_count": null,
      "outputs": []
    },
    {
      "cell_type": "code",
      "source": [
        "#Ensure num_pages, num_ratings, num_reviews, and average_rating are numeric\n",
        "# numeric_cols = ['num_pages', 'num_ratings', 'num_reviews', 'average_rating']\n",
        "\n",
        "# for col in numeric_cols:\n",
        "#     df[col] = pd.to_numeric(df[col], errors='coerce')\n",
        "\n",
        "#Then drop or fill any NaNs that may have appeared:\n",
        "# df.dropna(subset=numeric_cols, inplace=True)\n",
        "# df.reset_index(drop=True, inplace=True)\n",
        "\n",
        "#Gave me error so I commented out this block of code"
      ],
      "metadata": {
        "id": "SKDQ1G-VIRGj"
      },
      "execution_count": null,
      "outputs": []
    },
    {
      "cell_type": "code",
      "source": [
        "#Extract Year from publication_info (for if we want to later filter by publication year)\n",
        "# df['year_published'] = df['publication_info'].str.extract(r'(\\d{4})').astype(float)\n",
        "\n",
        "#Gave me error so I commented out this block of code"
      ],
      "metadata": {
        "id": "7jHdwdTsIgBK"
      },
      "execution_count": null,
      "outputs": []
    },
    {
      "cell_type": "code",
      "source": [
        "print(\"Unique values per column:\")\n",
        "print(df.nunique())\n",
        "\n",
        "print(\"\\nMissing values per column:\")\n",
        "print(df.isnull().sum())\n",
        "\n",
        "print(\"\\nTop genres:\")\n",
        "print(df['genres'].value_counts().head(10))\n"
      ],
      "metadata": {
        "id": "tduEMwKPJj8u"
      },
      "execution_count": null,
      "outputs": []
    },
    {
      "cell_type": "code",
      "source": [
        "df.shape"
      ],
      "metadata": {
        "id": "qCi-FJG7JuCd"
      },
      "execution_count": null,
      "outputs": []
    },
    {
      "cell_type": "code",
      "source": [
        "# shows all 100 rows without truncation\n",
        "pd.set_option('display.max_rows', 100)\n",
        "pd.set_option('display.max_columns', None)\n",
        "pd.set_option('display.width', None)\n",
        "pd.set_option('display.max_colwidth', None)\n",
        "\n",
        "df.head(100)"
      ],
      "metadata": {
        "id": "FLSmQCb4f0n4"
      },
      "execution_count": null,
      "outputs": []
    },
    {
      "cell_type": "code",
      "source": [
        "#Next steps\n",
        "# clean strings - text data\n",
        "# fix data types"
      ],
      "metadata": {
        "id": "CZGxI13riQRl"
      },
      "execution_count": null,
      "outputs": []
    },
    {
      "cell_type": "code",
      "source": [
        "# Combine relevant columns into one string per book\n",
        "df['combined_text'] = (\n",
        "    df['book_title'].fillna('') + ' ' +\n",
        "    df['book_author'].fillna('') + ' ' +\n",
        "    df['genres'].fillna('') + ' ' +\n",
        "    df['description'].fillna('')\n",
        ")"
      ],
      "metadata": {
        "id": "jRq0HmVGtab6"
      },
      "execution_count": null,
      "outputs": []
    },
    {
      "cell_type": "code",
      "source": [
        "from sklearn.model_selection import train_test_split\n",
        "\n",
        "# Split TF-IDF matrix and dataframe\n",
        "X_train, X_test, y_train, y_test = train_test_split(\n",
        "    book_embeddings,\n",
        "    df,\n",
        "    test_size=0.2,\n",
        "    random_state=42\n",
        ")\n",
        "\n",
        "print(\"Train shape:\", X_train.shape)\n",
        "print(\"Test shape:\", X_test.shape)\n",
        "\n",
        "from sklearn.model_selection import KFold\n",
        "from sklearn.neighbors import NearestNeighbors\n",
        "from sklearn.metrics.pairwise import cosine_distances\n",
        "import numpy as np\n",
        "\n",
        "# Initialize 5-Fold Cross Validator\n",
        "kf = KFold(n_splits=5, shuffle=True, random_state=42)\n",
        "\n",
        "avg_distances = []  # to store average cosine distance for each fold\n",
        "\n",
        "for fold, (train_index, val_index) in enumerate(kf.split(X_train)):\n",
        "    X_fold_train = X_train[train_index]\n",
        "    X_fold_val = X_train[val_index]\n",
        "\n",
        "    # Train NearestNeighbors on current fold\n",
        "    knn = NearestNeighbors(metric='cosine', algorithm='brute')\n",
        "    knn.fit(X_fold_train)\n",
        "\n",
        "    # Find nearest neighbors for each book in validation set\n",
        "    distances, indices = knn.kneighbors(X_fold_val, n_neighbors=6)  # 6 b/c 1st result is the book itself\n",
        "    avg_fold_distance = np.mean(distances[:, 1:])  # skip self-distance (0.0)\n",
        "\n",
        "    avg_distances.append(avg_fold_distance)\n",
        "    print(f\"Fold {fold+1}: Average cosine distance to nearest neighbors = {avg_fold_distance:.4f}\")\n"
      ],
      "metadata": {
        "id": "C7PrGiK8sYzO"
      },
      "execution_count": null,
      "outputs": []
    },
    {
      "cell_type": "code",
      "source": [
        "import matplotlib.pyplot as plt\n",
        "\n",
        "plt.plot(range(1, 6), avg_distances, marker='o')\n",
        "plt.title(\"Average Cosine Distance to Nearest Neighbors (5-Fold CV)\")\n",
        "plt.xlabel(\"Fold Number\")\n",
        "plt.ylabel(\"Avg Cosine Distance\")\n",
        "plt.grid(True)\n",
        "plt.show()"
      ],
      "metadata": {
        "id": "Onjoe6_-sdV3"
      },
      "execution_count": null,
      "outputs": []
    },
    {
      "cell_type": "code",
      "source": [
        "# Final KNN model trained on full training set\n",
        "final_knn = NearestNeighbors(metric='cosine', algorithm='brute')\n",
        "final_knn.fit(X_train)\n",
        "\n",
        "# Evaluate: find distances for test set books\n",
        "test_distances, test_indices = final_knn.kneighbors(X_test, n_neighbors=6)\n",
        "avg_test_distance = np.mean(test_distances[:, 1:])  # exclude self-distance\n",
        "print(f\"\\nFinal Evaluation: Avg cosine distance on reserved test set = {avg_test_distance:.4f}\")"
      ],
      "metadata": {
        "id": "6sNjtGQNsfRs"
      },
      "execution_count": null,
      "outputs": []
    },
    {
      "cell_type": "markdown",
      "source": [
        "# Notes for us to consider\n",
        "- ue all 4-5 models, train data, make dashboard with reports of all 4 models and show how datasets are working on each model\n",
        "- purpose is to compare"
      ],
      "metadata": {
        "id": "yEDiunHrx1Ci"
      }
    },
    {
      "cell_type": "code",
      "source": [
        "!pip uninstall ipython -y\n",
        "!pip install ipython"
      ],
      "metadata": {
        "id": "rSCMn9KEzL4X"
      },
      "execution_count": null,
      "outputs": []
    },
    {
      "cell_type": "code",
      "source": [
        "from IPython import get_ipython\n",
        "\n",
        "all_code = \"\\n\\n\".join(get_ipython().history_manager.input_hist_raw)\n",
        "with open(\"all_code.py\", \"w\") as f:\n",
        "    f.write(all_code)"
      ],
      "metadata": {
        "id": "LN1kEfrky_zF"
      },
      "execution_count": null,
      "outputs": []
    },
    {
      "cell_type": "markdown",
      "source": [
        "Random Forest"
      ],
      "metadata": {
        "id": "sV3-Zi5_38yE"
      }
    },
    {
      "cell_type": "code",
      "source": [
        "import pandas as pd\n",
        "from sklearn.model_selection import train_test_split\n",
        "from sklearn.ensemble import RandomForestRegressor\n",
        "from sklearn.metrics import mean_squared_error, r2_score\n",
        "import numpy as np\n",
        "\n",
        "# Load dataset\n",
        "df = pd.read_csv(\"Book_Details.csv\")\n",
        "\n",
        "# Keep necessary columns\n",
        "df = df[['book_title', 'book_details','publication_info', 'author', 'num_pages', 'genres', 'num_ratings','num_reviews','average_rating']]\n",
        "\n",
        "# Drop missing values and reset index\n",
        "df.dropna(inplace=True)\n",
        "df.reset_index(drop=True, inplace=True)\n",
        "\n",
        "# Drop duplicates based on book title\n",
        "df.drop_duplicates(subset='book_title', keep='first', inplace=True)\n",
        "df.reset_index(drop=True, inplace=True)\n",
        "\n",
        "# Clean text columns\n",
        "text_cols = ['book_title', 'book_details', 'genres', 'author']\n",
        "for col in text_cols:\n",
        "    df[col] = df[col].str.lower().str.strip()\n",
        "\n",
        "# Assuming you already created TF-IDF or embedding vectors and stored them in book_embeddings\n",
        "# For example:\n",
        "# from sklearn.feature_extraction.text import TfidfVectorizer\n",
        "# vectorizer = TfidfVectorizer(stop_words='english')\n",
        "# book_embeddings = vectorizer.fit_transform(df['book_details'])\n",
        "\n",
        "# ----> Replace this line with however you generated book_embeddings\n",
        "# book_embeddings = ...\n",
        "\n",
        "# For now, let’s assume book_embeddings is ready:\n",
        "# e.g., book_embeddings = tfidf_matrix\n",
        "\n",
        "# Target variable: average_rating\n",
        "X = book_embeddings  # TF-IDF or other embedding matrix\n",
        "y = df['average_rating']\n",
        "\n",
        "# Split into training and test sets\n",
        "X_train, X_test, y_train, y_test = train_test_split(\n",
        "    X, y, test_size=0.2, random_state=42\n",
        ")\n",
        "\n",
        "# Train Random Forest Regressor\n",
        "rf = RandomForestRegressor(n_estimators=20, random_state=42)\n",
        "rf.fit(X_train, y_train)\n",
        "\n",
        "# Predict on test data\n",
        "y_pred = rf.predict(X_test)\n",
        "\n",
        "# Evaluation\n",
        "mse = mean_squared_error(y_test, y_pred)\n",
        "r2 = r2_score(y_test, y_pred)\n",
        "\n",
        "print(\"=== Random Forest Regression Results ===\")\n",
        "print(\"Mean Squared Error:\", mse)\n",
        "print(\"R² Score:\", r2)"
      ],
      "metadata": {
        "id": "a1tKw_AR3-mV"
      },
      "execution_count": null,
      "outputs": []
    },
    {
      "cell_type": "code",
      "source": [
        "import pandas as pd\n",
        "from sklearn.model_selection import train_test_split\n",
        "from sklearn.ensemble import RandomForestRegressor\n",
        "from sklearn.metrics import mean_squared_error, r2_score\n",
        "from sklearn.feature_extraction.text import TfidfVectorizer\n",
        "import numpy as np\n",
        "\n",
        "# Load dataset\n",
        "df = pd.read_csv(\"Book_Details.csv\")\n",
        "\n"
      ],
      "metadata": {
        "id": "NU3i-JBA6NGZ"
      },
      "execution_count": null,
      "outputs": []
    }
  ]
}